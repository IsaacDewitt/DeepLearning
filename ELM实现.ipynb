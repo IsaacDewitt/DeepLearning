{
 "cells": [
  {
   "cell_type": "code",
   "execution_count": 276,
   "metadata": {},
   "outputs": [],
   "source": [
    "import numpy as np\n",
    "from sklearn.datasets import load_iris\n",
    "from sklearn.model_selection import train_test_split"
   ]
  },
  {
   "cell_type": "code",
   "execution_count": 277,
   "metadata": {},
   "outputs": [],
   "source": [
    "def init_parameters(n_x, n_h, n_y):\n",
    "    parameters = {}\n",
    "    parameters[\"W1\"] = np.random.randn(n_h, n_x)\n",
    "    parameters[\"b1\"] = np.zeros((n_h, 1))\n",
    "    parameters[\"W2\"] = np.random.randn(n_y, n_h)\n",
    "    parameters[\"b2\"] = np.zeros((n_y, 1))\n",
    "    return parameters"
   ]
  },
  {
   "cell_type": "code",
   "execution_count": 278,
   "metadata": {},
   "outputs": [],
   "source": [
    "def sigmoid(z):\n",
    "    return 1 / (1 + np.exp(-z))"
   ]
  },
  {
   "cell_type": "code",
   "execution_count": 279,
   "metadata": {},
   "outputs": [],
   "source": [
    "def softmax(a):\n",
    "    numerator = np.exp(a)\n",
    "    denominator = np.sum(np.exp(a))\n",
    "    temp = numerator / denominator\n",
    "    return np.argmax(temp, axis= 0)"
   ]
  },
  {
   "cell_type": "code",
   "execution_count": 280,
   "metadata": {},
   "outputs": [],
   "source": [
    "def forward_propagation(X, parameters, activation_function = \"sigmoid\"):\n",
    "    W1 = parameters[\"W1\"]\n",
    "    b1 = parameters[\"b1\"]\n",
    "    W2 = parameters[\"W2\"]\n",
    "    b2 = parameters[\"b2\"]\n",
    "    \n",
    "    cache ={}\n",
    "    \n",
    "    if activation_function == \"sigmoid\":\n",
    "        Z1 = np.dot(W1, X) + b1\n",
    "        A1 = sigmoid(Z1)\n",
    "        Z2 = np.dot(W2, A1) + b2\n",
    "        A2 = softmax(Z2)\n",
    "        cache[\"Z1\"] = Z1\n",
    "        cache[\"Z2\"] = Z2\n",
    "        cache[\"A1\"] = A1\n",
    "        cache[\"A2\"] = A2\n",
    "    return cache"
   ]
  },
  {
   "cell_type": "code",
   "execution_count": 281,
   "metadata": {},
   "outputs": [],
   "source": [
    "def elm_modle(X, Y, layer_dims):\n",
    "    n_x, n_h, n_y = layer_dims\n",
    "    parameters = init_parameters(n_x, n_h, n_y)\n",
    "    cache = forward_propagation(X, parameters)\n",
    "    H = cache[\"A1\"]\n",
    "    beta_ = np.dot(np.linalg.pinv(H).T, Y.T).T\n",
    "    assert(beta_.shape == parameters[\"W2\"].shape)\n",
    "    parameters[\"W2\"] = beta_\n",
    "    return parameters"
   ]
  },
  {
   "cell_type": "code",
   "execution_count": 282,
   "metadata": {},
   "outputs": [],
   "source": [
    "def predict(X, y, parameters):\n",
    "    y_pred = forward_propagation(X, parameters)[\"A2\"]\n",
    "    accuracy = np.sum(y_pred == y) / y.shape[1]\n",
    "    print(\"accuracy:\" + str(accuracy))\n",
    "    return y_pred"
   ]
  },
  {
   "cell_type": "code",
   "execution_count": 283,
   "metadata": {},
   "outputs": [],
   "source": [
    "iris = load_iris()\n",
    "X_train, X_test, y_train, y_test = train_test_split(iris.data, iris.target, test_size = 0.3, random_state = 22)\n",
    "X_train = X_train.T\n",
    "X_test = X_test.T\n",
    "y_test = y_test.reshape(1, -1)\n",
    "y_train = y_train.reshape(1, -1)\n",
    "y_train_ = np.zeros((3, y_train.shape[1]))\n",
    "#one hot\n",
    "for i in range(y_train_.shape[1]):\n",
    "    y_train_[y_train[0][i], i] = 1 \n",
    "# print(y_train)\n",
    "# print(y_train_)"
   ]
  },
  {
   "cell_type": "code",
   "execution_count": 284,
   "metadata": {},
   "outputs": [],
   "source": [
    "parameters = elm_modle(X_train, y_train_, layer_dims=[4, 8, 3])"
   ]
  },
  {
   "cell_type": "code",
   "execution_count": 285,
   "metadata": {},
   "outputs": [
    {
     "name": "stdout",
     "output_type": "stream",
     "text": [
      "accuracy:0.9111111111111111\n"
     ]
    }
   ],
   "source": [
    "y_pred = predict(X_test, y_test, parameters)"
   ]
  },
  {
   "cell_type": "code",
   "execution_count": 286,
   "metadata": {},
   "outputs": [
    {
     "name": "stdout",
     "output_type": "stream",
     "text": [
      "accuracy:0.9428571428571428\n"
     ]
    }
   ],
   "source": [
    "y_train_pred = predict(X_train, y_train, parameters)"
   ]
  },
  {
   "cell_type": "code",
   "execution_count": null,
   "metadata": {},
   "outputs": [],
   "source": []
  }
 ],
 "metadata": {
  "kernelspec": {
   "display_name": "Python 3",
   "language": "python",
   "name": "python3"
  },
  "language_info": {
   "codemirror_mode": {
    "name": "ipython",
    "version": 3
   },
   "file_extension": ".py",
   "mimetype": "text/x-python",
   "name": "python",
   "nbconvert_exporter": "python",
   "pygments_lexer": "ipython3",
   "version": "3.6.4"
  }
 },
 "nbformat": 4,
 "nbformat_minor": 2
}
